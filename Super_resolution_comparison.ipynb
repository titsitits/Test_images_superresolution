{
  "nbformat": 4,
  "nbformat_minor": 0,
  "metadata": {
    "colab": {
      "name": "Super-resolution comparison.ipynb",
      "version": "0.3.2",
      "provenance": [],
      "collapsed_sections": [
        "dW9Vd7MzXtGo",
        "Qzl2BlaolauH",
        "_-7UJShFq53n"
      ],
      "toc_visible": true,
      "include_colab_link": true
    },
    "kernelspec": {
      "name": "python3",
      "display_name": "Python 3"
    },
    "accelerator": "GPU"
  },
  "cells": [
    {
      "cell_type": "markdown",
      "metadata": {
        "id": "view-in-github",
        "colab_type": "text"
      },
      "source": [
        "<a href=\"https://colab.research.google.com/github/titsitits/Test_images_superresolution/blob/master/Super_resolution_comparison.ipynb\" target=\"_parent\"><img src=\"https://colab.research.google.com/assets/colab-badge.svg\" alt=\"Open In Colab\"/></a>"
      ]
    },
    {
      "cell_type": "markdown",
      "metadata": {
        "id": "AI2C2_rNlZ5K",
        "colab_type": "text"
      },
      "source": [
        "# Introduction notes\n",
        "Test images will be put in folder '/content/MyImages'.\n",
        "\n",
        "Model outputs will be put in folder '/content/MyResults'.\n",
        "\n",
        "You can uncomment some lines to download and test more models.\n",
        "\n",
        "## Notes if you want to try with your own images\n",
        "\n",
        "Acceptable images for most algorithms should be in png format. The acceptable size depends on your GPU, on the model you are trying and on the scaling option.\n",
        "\n",
        "Note that some algorithms allow chopping strategy to allow the use of larger images. Images around 500x500 should work in most cases with Google colab Tesla T4, maybe not with K80. Images around 1000x1000 won't work with some models, especially with a very large scaling option (like x8). It could work with SRFBN x4, WDSR x4 and DBPN x4."
      ]
    },
    {
      "cell_type": "code",
      "metadata": {
        "id": "TH5c9w0Q3LLa",
        "colab_type": "code",
        "colab": {}
      },
      "source": [
        "!pip install scipy==1.0.0\n",
        "#if it is asked, you should restart runtime after this installation\n"
      ],
      "execution_count": 0,
      "outputs": []
    },
    {
      "cell_type": "code",
      "metadata": {
        "id": "idoQ6W27lYmc",
        "colab_type": "code",
        "colab": {}
      },
      "source": [
        "import os\n",
        "os.chdir('/content/')\n",
        "!rm -r '/content/MyImages'\n",
        "!mkdir '/content/MyImages'"
      ],
      "execution_count": 0,
      "outputs": []
    },
    {
      "cell_type": "code",
      "metadata": {
        "id": "GxWpdbdAge0s",
        "colab_type": "code",
        "colab": {}
      },
      "source": [
        "import os\n",
        "os.chdir('/content/')\n",
        "!rm -r '/content/Myresults'\n",
        "!mkdir '/content/Myresults'"
      ],
      "execution_count": 0,
      "outputs": []
    },
    {
      "cell_type": "code",
      "metadata": {
        "colab_type": "code",
        "id": "KaQSLeC117uv",
        "colab": {}
      },
      "source": [
        "#Download imges from git repo:\n",
        "import os\n",
        "os.chdir('/content/')\n",
        "!git clone \"https://github.com/titsitits/Test_images_superresolution\"\n",
        "\n",
        "os.chdir(\"/content/Test_images_superresolution/\")\n",
        "filenames = os.listdir()\n",
        "for filename in filenames:\n",
        "  os.rename(filename, filename.lower())\n",
        "\n",
        "!cp /content/Test_images_superresolution/*.{jpg,png,JPG,PNG} /content/MyImages\n",
        "!rm -r /content/Test_images_superresolution/\n",
        "\n",
        "#You could also add your own images. However, note that some of the tested methods are capricious (particularly SRFBN) and do not work with all images.\n"
      ],
      "execution_count": 0,
      "outputs": []
    },
    {
      "cell_type": "code",
      "metadata": {
        "id": "T-dOTJ0xiXmE",
        "colab_type": "code",
        "colab": {}
      },
      "source": [
        "#convert all images from /content/MyImages in a compatible format for most models \n",
        "from PIL import Image\n",
        "import glob\n",
        "for myfile in glob.glob('/content/MyImages/*'):\n",
        "  f, e = os.path.splitext(myfile)\n",
        "  myim = Image.open(myfile)\n",
        "  os.remove(myfile)\n",
        "  myim.save(f+\".png\")"
      ],
      "execution_count": 0,
      "outputs": []
    },
    {
      "cell_type": "markdown",
      "metadata": {
        "id": "hmOALbrRolXP",
        "colab_type": "text"
      },
      "source": [
        "# WDSR - EDSR - SRGAN - \"Keras-based implementation of WDSR, EDSR and SRGAN for single image super-resolution \"\n",
        "https://github.com/krasserm/super-resolution\n",
        "\n",
        "   - Wide Activation for Efficient and Accurate Image Super-Resolution (WDSR), winner of the NTIRE 2018 super-resolution challenge.\n",
        "   - Enhanced Deep Residual Networks for Single Image Super-Resolution (EDSR), winner of the NTIRE 2017 super-resolution challenge.\n",
        "   - Photo-Realistic Single Image Super-Resolution Using a Generative Adversarial Network (SRGAN).\n"
      ]
    },
    {
      "cell_type": "code",
      "metadata": {
        "id": "gPJz4ksbERhi",
        "colab_type": "code",
        "colab": {}
      },
      "source": [
        "import os\n",
        "os.chdir('/content')\n",
        "!git clone \"https://github.com/krasserm/super-resolution\""
      ],
      "execution_count": 0,
      "outputs": []
    },
    {
      "cell_type": "code",
      "metadata": {
        "id": "S2Q82Rk2yNeJ",
        "colab_type": "code",
        "colab": {}
      },
      "source": [
        "# Download models\n",
        "import os\n",
        "os.chdir('/content/super-resolution/model')\n",
        "\n",
        "#baseline (EDSR)\n",
        "#!wget -O 'edsr-16-x2-psnr-34.6356.h5' --no-check-certificate \"https://docs.google.com/uc?export=download&id=1oATD-iXlQpcE2mIIEd4-9FOk2Xt5N8oX\"\n",
        "#lightest model\n",
        "#!wget -O 'wdsr-a-16-x2-psnr-34.6816.h5' --no-check-certificate \"https://docs.google.com/uc?export=download&id=1WmuSpNamFSszQOafrno05o1nDN4QjMeq\"\n",
        "#best PSNR\n",
        "#!wget -O 'wdsr-a-32-x2-psnr-34.8033.h5' --no-check-certificate \"https://docs.google.com/uc?export=download&id=1V4XHMFZo35yB_NTaD0dyw1_plS-78-Ju\"\n",
        "!wget -O 'wdsr-a-32-x4-psnr-29.1736.h5' --no-check-certificate \"https://docs.google.com/uc?export=download&id=1ZTIz1YVXFTI2z3rvBfVuBSthJLJZivxC\"\n",
        "#srgan with edsr generator (pre-trained and fine-tuned) (edsr gives the psnr, the gan ensures the photo is realistic)\n",
        "#!wget -O 'edsr-16-x4-gen-pre-psnr-28.8885.h5' --no-check-certificate \"https://docs.google.com/uc?export=download&id=1V4XHMFZo35yB_NTaD0dyw1_plS-78-Ju\"\n",
        "!wget -O 'edsr-16-x4-gen-epoch-088.h5' --no-check-certificate \"https://docs.google.com/uc?export=download&id=1Z7PhioyvTzLBOdrg6c4RNEP9JEIqudwP\"\n",
        "\n",
        "\n",
        "os.chdir('../')"
      ],
      "execution_count": 0,
      "outputs": []
    },
    {
      "cell_type": "code",
      "metadata": {
        "id": "HFjMESzlGEwA",
        "colab_type": "code",
        "colab": {}
      },
      "source": [
        "import os\n",
        "os.chdir('/content/super-resolution')\n",
        "\n",
        "#uncomment to test\n",
        "#!python demo.py -i /content/MyImages -o ./output_edsr_x2 --model ./model/edsr-16-x2-psnr-34.6356.h5\n",
        "#!mkdir -p /content/Myresults/output_edsr_x2/\n",
        "#!cp ./output_edsr_x2/*.png /content/Myresults/output_edsr_x2/\n",
        "\n",
        "#uncomment to test\n",
        "#!python demo.py -i /content/MyImages -o ./output_wdsr_x2 --model ./model/wdsr-a-16-x2-psnr-34.6816.h5\n",
        "#!mkdir -p /content/Myresults/output_wdsr_x2/\n",
        "#!cp ./output_wdsr_x2/*.png /content/Myresults/output_wdsr_x2/\n",
        "\n",
        "!python demo.py -i /content/MyImages -o ./output_wdsr_x4 --model ./model/wdsr-a-32-x4-psnr-29.1736.h5\n",
        "!mkdir -p /content/Myresults/output_wdsr_x4/\n",
        "!cp ./output_wdsr_x4/*.png /content/Myresults/output_wdsr_x4/\n",
        "\n",
        "!python demo.py -i /content/MyImages -o ./srgan_x4 --model ./model/edsr-16-x4-gen-epoch-088.h5\n",
        "!mkdir -p /content/Myresults/srgan_x4/\n",
        "!cp ./srgan_x4/*.png /content/Myresults/srgan_x4/"
      ],
      "execution_count": 0,
      "outputs": []
    },
    {
      "cell_type": "markdown",
      "metadata": {
        "id": "DMa7HVlNqJCP",
        "colab_type": "text"
      },
      "source": [
        "# Enhanced SRGAN\n",
        "https://github.com/xinntao/ESRGAN\n"
      ]
    },
    {
      "cell_type": "code",
      "metadata": {
        "id": "C4PVej-MqQsX",
        "colab_type": "code",
        "colab": {}
      },
      "source": [
        "import os\n",
        "os.chdir('/content')\n",
        "!git clone https://github.com/xinntao/ESRGAN"
      ],
      "execution_count": 0,
      "outputs": []
    },
    {
      "cell_type": "code",
      "metadata": {
        "id": "4E-qV3_Rqlnd",
        "colab_type": "code",
        "colab": {}
      },
      "source": [
        "import os\n",
        "os.chdir('/content/ESRGAN')"
      ],
      "execution_count": 0,
      "outputs": []
    },
    {
      "cell_type": "code",
      "metadata": {
        "id": "aRMfPgnK6-gN",
        "colab_type": "code",
        "colab": {}
      },
      "source": [
        "import os\n",
        "os.chdir('/content/ESRGAN')\n",
        "!wget -O './models/RRDB_ESRGAN_x4.pth' --no-check-certificate 'https://docs.google.com/uc?export=download&id=1MJFgqXJrMkPdKtiuy7C6xfsU1QIbXEb-'\n",
        "!wget -O './models/RRDB_PSNR_x4.pth' --no-check-certificate 'https://docs.google.com/uc?export=download&id=1mSJ6Z40weL-dnPvi390xDd3uZBCFMeqr'"
      ],
      "execution_count": 0,
      "outputs": []
    },
    {
      "cell_type": "code",
      "metadata": {
        "id": "SuHsdhqKqzqq",
        "colab_type": "code",
        "colab": {}
      },
      "source": [
        "!mkdir -p /content/ESRGAN/LR/\n",
        "!cp /content/MyImages/*.png /content/ESRGAN/LR/\n",
        "\n",
        "import os\n",
        "os.chdir('/content/ESRGAN')\n",
        "\n",
        "#more realistic image (gan)\n",
        "!python test.py models/RRDB_ESRGAN_x4.pth\n",
        "!mkdir -p /content/Myresults/ESRGAN_x4/\n",
        "!cp /content/ESRGAN/results/*.png /content/Myresults/ESRGAN_x4/\n",
        "\n",
        "#closer to original image (psnr max)\n",
        "!python test.py models/RRDB_PSNR_x4.pth\n",
        "!mkdir -p /content/Myresults/ESRGAN_PSNR_x4/\n",
        "!cp /content/ESRGAN/results/*.png /content/Myresults/ESRGAN_PSNR_x4/\n",
        "\n",
        "#create interpolation between both network (0.8 esrgan + 0.2 psnr)\n",
        "!python net_interp.py 0.8\n",
        "!python test.py models/interp_08.pth\n",
        "!mkdir -p /content/Myresults/ESRGAN_INTERP_x4/\n",
        "!cp /content/ESRGAN/results/*.png /content/Myresults/ESRGAN_INTERP_x4/"
      ],
      "execution_count": 0,
      "outputs": []
    },
    {
      "cell_type": "markdown",
      "metadata": {
        "id": "j40kY1iAiYsV",
        "colab_type": "text"
      },
      "source": [
        "# DBPN - Deep Back-Projection Networks for Super-Resolution (CVPR2018)\n",
        "https://github.com/alterzero/DBPN-Pytorch"
      ]
    },
    {
      "cell_type": "code",
      "metadata": {
        "id": "ghA6YkZWivum",
        "colab_type": "code",
        "colab": {}
      },
      "source": [
        "import os\n",
        "os.chdir('/content')\n",
        "!git clone \"https://github.com/alterzero/DBPN-Pytorch\""
      ],
      "execution_count": 0,
      "outputs": []
    },
    {
      "cell_type": "code",
      "metadata": {
        "id": "pIy4TaAci4os",
        "colab_type": "code",
        "colab": {}
      },
      "source": [
        "import os\n",
        "os.chdir('/content/DBPN-Pytorch')"
      ],
      "execution_count": 0,
      "outputs": []
    },
    {
      "cell_type": "code",
      "metadata": {
        "id": "MpHTtqVGiiXl",
        "colab_type": "code",
        "colab": {}
      },
      "source": [
        "import os\n",
        "os.chdir('/content/DBPN-Pytorch')\n",
        "#!wget --no-check-certificate -O DBPN_x2.pth \"https://docs.google.com/uc?export=download&id=108YVNWdC2wxqlPr1vqeJKBtnBwqQvj76\"\n",
        "!wget --no-check-certificate -O DBPN_x4.pth \"https://docs.google.com/uc?export=download&id=1vkr7vrypm3SCBWN0YyeiYNbHrvnwtQKj\"\n",
        "#!wget --no-check-certificate -O DBPN_x8.pth \"https://docs.google.com/uc?export=download&id=1La1BvYtpLR4Ah1VCUvL59TcXpbG2ogkM\"\n",
        "#!wget --no-check-certificate -O DBPNLL_x8.pth \"https://docs.google.com/uc?export=download&id=1gyRZNMJrjWp-2JXWje0o9jd6igbSx1CZ\"\n"
      ],
      "execution_count": 0,
      "outputs": []
    },
    {
      "cell_type": "code",
      "metadata": {
        "id": "NCOMtexNjwud",
        "colab_type": "code",
        "colab": {}
      },
      "source": [
        "import os\n",
        "os.chdir('/content/DBPN-Pytorch')\n",
        "\n",
        "#faster without chopping but requires more GPU memory\n",
        "\n",
        "!rm -r /content/DBPN-Pytorch/Results/MyImages/\n",
        "\n",
        "#Uncomment to test\n",
        "#!python eval.py --upscale_factor 2 --input_dir '/content/' --test_dataset 'MyImages' --model_type 'DBPN' --model './DBPN_x2.pth' --chop_forward True\n",
        "#!rm -r /content/Myresults/DBPN_x2_noensemble/\n",
        "#!mkdir -p /content/Myresults/DBPN_x2_noensemble/\n",
        "#!cp /content/DBPN-Pytorch/Results/MyImages/*.png /content/Myresults/DBPN_x2_noensemble/\n",
        "\n",
        "!python eval.py --upscale_factor 4 --input_dir '/content/' --test_dataset 'MyImages' --model_type 'DBPN' --model './DBPN_x4.pth' --chop_forward True\n",
        "!rm -r /content/Myresults/DBPN_x4_noensemble/\n",
        "!mkdir -p /content/Myresults/DBPN_x4_noensemble/\n",
        "!cp /content/DBPN-Pytorch/Results/MyImages/*.png /content/Myresults/DBPN_x4_noensemble/\n",
        "\n",
        "#uncomment to test\n",
        "#!python eval.py --upscale_factor 8 --input_dir '/content/' --test_dataset 'MyImages' --model_type 'DBPN' --model './DBPN_x8.pth' --chop_forward True\n",
        "#!rm -r /content/Myresults/DBPN_x8_noensemble/\n",
        "#!mkdir -p /content/Myresults/DBPN_x8_noensemble/\n",
        "#!cp /content/DBPN-Pytorch/Results/MyImages/*.png /content/Myresults/DBPN_x8_noensemble/\n",
        "\n",
        "\n",
        "\n",
        "#this one fails so far...\n",
        "#!python eval.py --upscale_factor 8 --chop_forward True --input_dir '../' --test_dataset 'MyImages' --model_type 'DBPNLL' --model './DBPNLL_x8.pth'\n",
        "\n",
        "#!mkdir -p /content/Myresults/DBPNLL_x8_chop_noresidue_noensemble/\n",
        "#!cp /content/DBPN-Pytorch/Results/MyImages/*.png /content/Myresults/DBPNLL_x8_chop_noresidue_noensemble/"
      ],
      "execution_count": 0,
      "outputs": []
    },
    {
      "cell_type": "markdown",
      "metadata": {
        "id": "Q6FAN7xAsMke",
        "colab_type": "text"
      },
      "source": [
        "# SRFBN - \"Feedback Network for Image Super-Resolution\" (CVPR2019) \n",
        "https://github.com/Paper99/SRFBN_CVPR19"
      ]
    },
    {
      "cell_type": "code",
      "metadata": {
        "id": "dYfB95kJsQf8",
        "colab_type": "code",
        "colab": {}
      },
      "source": [
        "import os\n",
        "os.chdir('/content')\n",
        "!git clone https://github.com/Paper99/SRFBN_CVPR19.git"
      ],
      "execution_count": 0,
      "outputs": []
    },
    {
      "cell_type": "code",
      "metadata": {
        "id": "ufTGpzxsJiwh",
        "colab_type": "code",
        "colab": {}
      },
      "source": [
        "!mkdir '/content/SRFBN_CVPR19/MyResults'\n",
        "!mkdir '/content/SRFBN_CVPR19/MyResults/BI'\n",
        "!mkdir '/content/SRFBN_CVPR19/MyResults/BD'\n",
        "!mkdir '/content/SRFBN_CVPR19/MyResults/DN'"
      ],
      "execution_count": 0,
      "outputs": []
    },
    {
      "cell_type": "code",
      "metadata": {
        "id": "r6gZkBSgACUr",
        "colab_type": "code",
        "colab": {}
      },
      "source": [
        "import os\n",
        "os.chdir('/content/SRFBN_CVPR19')\n",
        "!wget -O \"models.zip\" --no-check-certificate \"https://docs.google.com/uc?export=download&id=1Dsb_-OH0CeSJVjvP9A4bh2_IBQh9R-ja\"\n",
        "!unzip -o \"models.zip\"\n",
        "!rm -r \"./models\"\n",
        "!mv \"./SRFBN_CVPR19_Models\" \"./models\""
      ],
      "execution_count": 0,
      "outputs": []
    },
    {
      "cell_type": "code",
      "metadata": {
        "id": "rj8xAWVdZNSp",
        "colab_type": "code",
        "colab": {}
      },
      "source": [
        "#Creating all possible option files (needed as json files, see github for more info)\n",
        "#options for each model, with or without self_ensemble, all with chopping\n",
        "\n",
        "import json\n",
        "\n",
        "import os\n",
        "os.chdir('/content/SRFBN_CVPR19')\n",
        "\n",
        "mydict = {\n",
        "    \"mode\": \"sr\",\n",
        "    \"use_cl\": True,\n",
        "    \"gpu_ids\": [0],\n",
        "\n",
        "    \"scale\": 2,\n",
        "    \"degradation\": \"BI\",\n",
        "    \"is_train\": False,\n",
        "    \"use_chop\": True,\n",
        "    \"rgb_range\": 255,\n",
        "    \"self_ensemble\": False,\n",
        "\n",
        "\t  \"datasets\": {\n",
        "        \"test_set1\": {\n",
        "            \"mode\": \"LRHR\",\n",
        "            \"dataroot_HR\": \"../MyImages\",\n",
        "            \"dataroot_LR\": \"../MyImages\",\n",
        "            \"data_type\": \"img\"\n",
        "        }\n",
        "    },    \n",
        "\n",
        "    \"networks\": {\n",
        "        \"which_model\": \"SRFBN\",\n",
        "        \"num_features\": 64,\n",
        "        \"in_channels\": 3,\n",
        "        \"out_channels\": 3,\n",
        "        \"num_steps\": 4,\n",
        "        \"num_groups\": 6\n",
        "    },\n",
        "\n",
        "    \"solver\": {\n",
        "        \"pretrained_path\": \"./models/SRFBN_x2_BI.pth\"\n",
        "    }\n",
        "}\n",
        "\n",
        "\n",
        "for isensemble in [False,True]:\n",
        "  \n",
        "  mydict['self_ensemble'] = isensemble\n",
        "  \n",
        "  if isensemble:\n",
        "    ens = '_ensemble'\n",
        "  else:\n",
        "    ens = '_noensemble'\n",
        "  \n",
        "  #Model1\n",
        "  mydict['scale'] = 2\n",
        "  mydict['degradation'] = 'BI'\n",
        "  \n",
        "  mydict['solver']['pretrained_path'] = \"./models/SRFBN_x\" + str(mydict['scale']) +  \"_\" + mydict['degradation'] + \".pth\" \n",
        "  with open(\"SRFBN_x\" + str(mydict['scale']) +  \"_\" + mydict['degradation'] + ens + \".json\" , 'w') as fp:\n",
        "    json.dump(mydict, fp)\n",
        "    \n",
        "  #Model2\n",
        "  mydict['scale'] = 3\n",
        "  mydict['degradation'] = 'BI'\n",
        "  \n",
        "  mydict['solver']['pretrained_path'] = \"./models/SRFBN_x\" + str(mydict['scale']) +  \"_\" + mydict['degradation'] + \".pth\" \n",
        "  with open(\"SRFBN_x\" + str(mydict['scale']) +  \"_\" + mydict['degradation'] + ens + \".json\" , 'w') as fp:\n",
        "    json.dump(mydict, fp)\n",
        "  \n",
        "  #Model3\n",
        "  mydict['scale'] = 4\n",
        "  mydict['degradation'] = 'BI'\n",
        "  \n",
        "  mydict['solver']['pretrained_path'] = \"./models/SRFBN_x\" + str(mydict['scale']) +  \"_\" + mydict['degradation'] + \".pth\" \n",
        "  with open(\"SRFBN_x\" + str(mydict['scale']) +  \"_\" + mydict['degradation'] + ens + \".json\" , 'w') as fp:\n",
        "    json.dump(mydict, fp)\n",
        "\n",
        "  #Model4\n",
        "  mydict['scale'] = 3\n",
        "  mydict['degradation'] = 'DN'\n",
        "  \n",
        "  mydict['solver']['pretrained_path'] = \"./models/SRFBN_x\" + str(mydict['scale']) +  \"_\" + mydict['degradation'] + \".pth\" \n",
        "  with open(\"SRFBN_x\" + str(mydict['scale']) +  \"_\" + mydict['degradation'] + ens + \".json\" , 'w') as fp:\n",
        "    json.dump(mydict, fp) \n",
        "  \n",
        "  #Model5\n",
        "  mydict['scale'] = 3\n",
        "  mydict['degradation'] = 'BD'\n",
        "  \n",
        "  mydict['solver']['pretrained_path'] = \"./models/SRFBN_x\" + str(mydict['scale']) +  \"_\" + mydict['degradation'] + \".pth\" \n",
        "  with open(\"SRFBN_x\" + str(mydict['scale']) +  \"_\" + mydict['degradation'] + ens + \".json\" , 'w') as fp:\n",
        "    json.dump(mydict, fp)\n",
        "\n"
      ],
      "execution_count": 0,
      "outputs": []
    },
    {
      "cell_type": "code",
      "metadata": {
        "id": "DiGZbBPJA5-_",
        "colab_type": "code",
        "colab": {}
      },
      "source": [
        "#modified version of test.py\n",
        "\n",
        "import argparse, time, os\n",
        "import imageio\n",
        "\n",
        "import options.options as option\n",
        "from utils import util\n",
        "from solvers import create_solver\n",
        "from data import create_dataloader\n",
        "from data import create_dataset\n",
        "\n",
        "\n",
        "\n",
        "def testmodel(modeljson, save_path):\n",
        "  \n",
        "  opt = option.parse(modeljson)\n",
        "  opt = option.dict_to_nonedict(opt)\n",
        "\n",
        "\n",
        "  # initial configure\n",
        "  scale = opt['scale']\n",
        "  degrad = opt['degradation']\n",
        "  network_opt = opt['networks']\n",
        "  model_name = network_opt['which_model'].upper()\n",
        "  if opt['self_ensemble']: model_name += 'plus'\n",
        "\n",
        "  # create test dataloader\n",
        "  bm_names =[]\n",
        "  test_loaders = []\n",
        "  for _, dataset_opt in sorted(opt['datasets'].items()):\n",
        "      test_set = create_dataset(dataset_opt)\n",
        "      test_loader = create_dataloader(test_set, dataset_opt)\n",
        "      test_loaders.append(test_loader)\n",
        "      print('===> Test Dataset: [%s]   Number of images: [%d]' % (test_set.name(), len(test_set)))\n",
        "      bm_names.append(test_set.name())\n",
        "\n",
        "  # create solver (and load model)\n",
        "  solver = create_solver(opt)\n",
        "  # Test phase\n",
        "  print('===> Start Test')\n",
        "  print(\"==================================================\")\n",
        "  print(\"Method: %s || Scale: %d || Degradation: %s\"%(model_name, scale, degrad))\n",
        "\n",
        "  for bm, test_loader in zip(bm_names, test_loaders):\n",
        "      print(\"Test set : [%s]\"%bm)\n",
        "\n",
        "      sr_list = []\n",
        "      path_list = []\n",
        "\n",
        "      total_psnr = []\n",
        "      total_ssim = []\n",
        "      total_time = []\n",
        "\n",
        "      need_HR = False# if test_loader.dataset.__class__.__name__.find('LRHR') < 0 else True\n",
        "\n",
        "      for iter, batch in enumerate(test_loader):\n",
        "          solver.feed_data(batch, need_HR=need_HR)\n",
        "\n",
        "          # calculate forward time\n",
        "          t0 = time.time()\n",
        "          solver.test()\n",
        "          t1 = time.time()\n",
        "          total_time.append((t1 - t0))\n",
        "\n",
        "          visuals = solver.get_current_visual(need_HR=need_HR)\n",
        "          sr_list.append(visuals['SR'])\n",
        "\n",
        "          # calculate PSNR/SSIM metrics on Python\n",
        "          if need_HR:\n",
        "              psnr, ssim = util.calc_metrics(visuals['SR'], visuals['HR'], crop_border=scale)\n",
        "              total_psnr.append(psnr)\n",
        "              total_ssim.append(ssim)\n",
        "              path_list.append(os.path.basename(batch['HR_path'][0]).replace('HR', model_name))\n",
        "              print(\"[%d/%d] %s || PSNR(dB)/SSIM: %.2f/%.4f || Timer: %.4f sec .\" % (iter+1, len(test_loader),\n",
        "                                                                                     os.path.basename(batch['LR_path'][0]),\n",
        "                                                                                     psnr, ssim,\n",
        "                                                                                     (t1 - t0)))\n",
        "          else:\n",
        "              path_list.append(os.path.basename(batch['LR_path'][0]))\n",
        "              print(\"[%d/%d] %s || Timer: %.4f sec .\" % (iter + 1, len(test_loader),\n",
        "                                                         os.path.basename(batch['LR_path'][0]),\n",
        "                                                         (t1 - t0)))\n",
        "\n",
        "      if need_HR:\n",
        "          print(\"---- Average PSNR(dB) /SSIM /Speed(s) for [%s] ----\" % bm)\n",
        "          print(\"PSNR: %.2f      SSIM: %.4f      Speed: %.4f\" % (sum(total_psnr)/len(total_psnr),\n",
        "                                                                sum(total_ssim)/len(total_ssim),\n",
        "                                                                sum(total_time)/len(total_time)))\n",
        "      else:\n",
        "          print(\"---- Average Speed(s) for [%s] is %.4f sec ----\" % (bm,\n",
        "                                                                    sum(total_time)/len(total_time)))\n",
        "\n",
        "      if not save_path:\n",
        "        save_path = './results/SR/'\n",
        "        \n",
        "      # save SR results for further evaluation on MATLAB\n",
        "      #if need_HR:\n",
        "      #    save_img_path = os.path.join('./results/SR/'+degrad, model_name, bm, \"x%d\"%scale)\n",
        "      #else:\n",
        "      #    save_img_path = os.path.join(save_path+bm, model_name, \"x%d\"%scale)\n",
        "          \n",
        "      save_img_path = save_path\n",
        "\n",
        "      print(\"===> Saving SR images of [%s]... Save Path: [%s]\\n\" % (bm, save_img_path))\n",
        "\n",
        "      if not os.path.exists(save_img_path): os.makedirs(save_img_path)\n",
        "      for img, name in zip(sr_list, path_list):\n",
        "          imageio.imwrite(os.path.join(save_img_path, name), img)\n",
        "\n",
        "  print(\"==================================================\")\n",
        "  print(\"===> Finished !\")\n",
        "\n"
      ],
      "execution_count": 0,
      "outputs": []
    },
    {
      "cell_type": "code",
      "metadata": {
        "id": "gcG0cUM6BoxX",
        "colab_type": "code",
        "colab": {}
      },
      "source": [
        "\n",
        "import os\n",
        "os.chdir('/content/SRFBN_CVPR19')\n",
        "\n",
        "#Uncomment to test\n",
        "#!mkdir -p '/content/Myresults/SRFBN_x2_BI_noensemble'\n",
        "#testmodel('./SRFBN_x2_BI_noensemble.json', '/content/Myresults/SRFBN_x2_BI_noensemble/')\n",
        "\n",
        "#!mkdir -p '/content/Myresults/SRFBN_x3_BI_noensemble'\n",
        "#testmodel('./SRFBN_x3_BI_noensemble.json', '/content/Myresults/SRFBN_x3_BI_noensemble/')\n",
        "\n",
        "\n",
        "#!mkdir -p '/content/Myresults/SRFBN_x3_DN_noensemble'\n",
        "#testmodel('./SRFBN_x3_DN_noensemble.json', '/content/Myresults/SRFBN_x3_DN_noensemble/')\n",
        "\n",
        "#!mkdir -p '/content/Myresults/SRFBN_x3_BD_noensemble'\n",
        "#testmodel('./SRFBN_x3_BD_noensemble.json', '/content/Myresults/SRFBN_x3_BD_noensemble/')\n",
        "\n",
        "!mkdir -p '/content/Myresults/SRFBN_x4_BI_noensemble'\n",
        "testmodel('./SRFBN_x4_BI_noensemble.json', '/content/Myresults/SRFBN_x4_BI_noensemble/')\n",
        "\n",
        "\n",
        "\n",
        "\n",
        "#Remarques: je n'ai vu aucune différence en utilisant la méthode d'ensemble sur mes photos\n",
        "#Le BI semble le plus réaliste sur mes photos, mais ça doit dépendre de l'appareil utilisé\n",
        "#la dégradation DN lisse très fort les textures, BD ajoute du bruit avec des gros pixels pour moi\n",
        "\n",
        "#Sinon ça m'a l'air de donner un résultat équivalent à wdsr et dbpn (sur mes photos of course)...\n",
        "\n",
        "\n",
        "#testmodel(optionsdict)"
      ],
      "execution_count": 0,
      "outputs": []
    },
    {
      "cell_type": "markdown",
      "metadata": {
        "id": "lRMrZBP00RYB",
        "colab_type": "text"
      },
      "source": [
        "# Comparison for one image"
      ]
    },
    {
      "cell_type": "code",
      "metadata": {
        "id": "21QV0PEN19Sv",
        "colab_type": "code",
        "colab": {}
      },
      "source": [
        "from IPython.display import Image, display\n",
        "import PIL\n",
        "import glob\n",
        "\n",
        "#you can change the name of the image to display (without extension)\n",
        "imname = 'microscopy'\n",
        "imname = imname+'*'\n",
        "\n",
        "#dirsx2 = ['/content/Myresults/output_wdsr_x2/']\n",
        "#dirsx2 = glob.glob('/content/Myresults/*x2*/')\n",
        "#dirsx3 = glob.glob('/content/Myresults/*x3*/')\n",
        "#dirsx4 = glob.glob('/content/Myresults/*x4*/')\n",
        "#dirsx4 = ['/content/Myresults/output_wdsr_x4/', '/content/Myresults/srgan_x4/', '/content/Myresults/ESRGAN/', '/content/Myresults/ESRGAN_PSNR/']\n",
        "\n",
        "\n",
        "#Original\n",
        "print('Original')\n",
        "\n",
        "orignames = glob.glob('/content/MyImages/' + imname)\n",
        "for filename in orignames:\n",
        "  print(filename)\n",
        "  display(Image(filename))\n",
        "\n",
        "\n",
        "\n",
        "#For each scaling index, display original resized image, and model results\n",
        "for scaling in range(2,10):\n",
        "  sc = scaling\n",
        "  ssc = str(scaling)\n",
        "  dirs = glob.glob('/content/Myresults/*x' + ssc + '*/')\n",
        "  \n",
        "  if dirs:\n",
        "    print('Original x' + ssc)\n",
        "    for filename in orignames:\n",
        "      print(filename)\n",
        "      im = PIL.Image.open(filename)\n",
        "      width, height = im.size\n",
        "      display(Image(filename, width=int(width*sc), height = int(height*sc) ))\n",
        "    \n",
        "    #Super-resolution results\n",
        "    for mydir in dirs: \n",
        "      try:\n",
        "        filenames = glob.glob(mydir + imname)\n",
        "        for filename in filenames:\n",
        "          print(filename)\n",
        "          display(Image(filename))\n",
        "      except:\n",
        "        print('error on ' + mydir + ' for name ' + imname)\n"
      ],
      "execution_count": 0,
      "outputs": []
    },
    {
      "cell_type": "markdown",
      "metadata": {
        "id": "8MwGIPSkkDUi",
        "colab_type": "text"
      },
      "source": [
        "#All results"
      ]
    },
    {
      "cell_type": "code",
      "metadata": {
        "id": "JtafWPVQk2pU",
        "colab_type": "code",
        "colab": {}
      },
      "source": [
        "import os\n",
        "\n",
        "from IPython.display import Image, display\n",
        "import PIL\n",
        "import glob\n",
        "\n",
        "import matplotlib.pyplot as plt\n",
        "import matplotlib.image as mpimg\n",
        "import numpy as np\n",
        "\n",
        "\n",
        "#modelnames = 'DBPN_x4'\n",
        "#modelnames = 'SRFBN_x3'\n",
        "#modelnames = 'ESRGAN'\n",
        "\n",
        "#modelnames += '*'\n",
        "\n",
        "\n",
        "#sc = 4\n",
        "#ssc = str(sc)\n",
        "#dirs = glob.glob('/content/Myresults/' + modelnames + '/')\n",
        "\n",
        "dirs = glob.glob('/content/Myresults/*/')\n",
        "\n",
        "ndir = len(dirs)\n",
        "\n",
        "imname = '*'\n",
        "orignames = glob.glob('/content/MyImages/' + imname)\n",
        "\n",
        "for i in range(0,len(orignames)):\n",
        "  \n",
        "  fig, axes = plt.subplots(nrows=1, ncols=1+ndir)\n",
        "  fig.set_size_inches((20,20))\n",
        "  fig.tight_layout()\n",
        "  \n",
        "  #original\n",
        "  orig = orignames[i]\n",
        "  imgLr = mpimg.imread(orig)\n",
        "  axes[0].imshow(imgLr)\n",
        "   \n",
        "  for j in range(0,len(dirs)):\n",
        "    \n",
        "    mydir = dirs[j]\n",
        "  \n",
        "    #new file\n",
        "    path, file = os.path.split(orig)\n",
        "    file, ext = os.path.splitext(file)\n",
        "    #print(file)  \n",
        "    newfile = glob.glob(mydir + file + '*')[0]\n",
        "\n",
        "    imgRr = mpimg.imread(newfile)\n",
        "    axes[1+j].imshow(imgRr)\n",
        "  \n",
        "\n",
        "  \n",
        "  \n",
        "  "
      ],
      "execution_count": 0,
      "outputs": []
    }
  ]
}